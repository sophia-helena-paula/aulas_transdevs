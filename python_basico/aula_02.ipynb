{
 "cells": [
  {
   "cell_type": "markdown",
   "metadata": {},
   "source": [
    "<h1>Aula 02</h1>"
   ]
  },
  {
   "cell_type": "code",
   "execution_count": 1,
   "metadata": {},
   "outputs": [
    {
     "name": "stdout",
     "output_type": "stream",
     "text": [
      "2\n"
     ]
    }
   ],
   "source": [
    "numero_pessoa = 2\n",
    "print(numero_pessoa)"
   ]
  },
  {
   "cell_type": "code",
   "execution_count": 2,
   "metadata": {},
   "outputs": [
    {
     "ename": "SyntaxError",
     "evalue": "invalid decimal literal (3813808364.py, line 1)",
     "output_type": "error",
     "traceback": [
      "\u001b[1;36m  Cell \u001b[1;32mIn[2], line 1\u001b[1;36m\u001b[0m\n\u001b[1;33m    2numero_pesssoa = 2\u001b[0m\n\u001b[1;37m    ^\u001b[0m\n\u001b[1;31mSyntaxError\u001b[0m\u001b[1;31m:\u001b[0m invalid decimal literal\n"
     ]
    }
   ],
   "source": [
    "2numero_pesssoa = 2\n",
    "print(2numero_pesssoa)"
   ]
  },
  {
   "cell_type": "code",
   "execution_count": 3,
   "metadata": {},
   "outputs": [
    {
     "ename": "SyntaxError",
     "evalue": "invalid syntax (4065831010.py, line 1)",
     "output_type": "error",
     "traceback": [
      "\u001b[1;36m  Cell \u001b[1;32mIn[3], line 1\u001b[1;36m\u001b[0m\n\u001b[1;33m    numero pesssoa = 2\u001b[0m\n\u001b[1;37m           ^\u001b[0m\n\u001b[1;31mSyntaxError\u001b[0m\u001b[1;31m:\u001b[0m invalid syntax\n"
     ]
    }
   ],
   "source": [
    "numero pesssoa = 2\n",
    "print(numero pesssoa)"
   ]
  },
  {
   "cell_type": "code",
   "execution_count": 11,
   "metadata": {},
   "outputs": [],
   "source": [
    "variavel_1 = 2\n",
    "variavel_2 = 2.0\n",
    "variavel_3= 2.0000000000000000000000000000000000000000000000000"
   ]
  },
  {
   "cell_type": "code",
   "execution_count": 7,
   "metadata": {},
   "outputs": [
    {
     "data": {
      "text/plain": [
       "True"
      ]
     },
     "execution_count": 7,
     "metadata": {},
     "output_type": "execute_result"
    }
   ],
   "source": [
    "variavel_1 == variavel_3"
   ]
  },
  {
   "cell_type": "code",
   "execution_count": 8,
   "metadata": {},
   "outputs": [
    {
     "data": {
      "text/plain": [
       "int"
      ]
     },
     "execution_count": 8,
     "metadata": {},
     "output_type": "execute_result"
    }
   ],
   "source": [
    "type(variavel_1)"
   ]
  },
  {
   "cell_type": "code",
   "execution_count": 9,
   "metadata": {},
   "outputs": [
    {
     "data": {
      "text/plain": [
       "float"
      ]
     },
     "execution_count": 9,
     "metadata": {},
     "output_type": "execute_result"
    }
   ],
   "source": [
    "type(variavel_2)"
   ]
  },
  {
   "cell_type": "code",
   "execution_count": 19,
   "metadata": {},
   "outputs": [],
   "source": [
    "dolar = 6.094554855"
   ]
  },
  {
   "cell_type": "code",
   "execution_count": 20,
   "metadata": {},
   "outputs": [
    {
     "data": {
      "text/plain": [
       "6.09"
      ]
     },
     "execution_count": 20,
     "metadata": {},
     "output_type": "execute_result"
    }
   ],
   "source": [
    "round(dolar, 2)"
   ]
  },
  {
   "cell_type": "code",
   "execution_count": 29,
   "metadata": {},
   "outputs": [
    {
     "name": "stdout",
     "output_type": "stream",
     "text": [
      "eu tenho 2 pés\n"
     ]
    }
   ],
   "source": [
    "numero_maos = 2\n",
    "coisa_que_tenho = 'pés'\n",
    "string_exemplo = f'eu tenho {numero_maos} {coisa_que_tenho}'\n",
    "print(string_exemplo)"
   ]
  },
  {
   "cell_type": "code",
   "execution_count": 32,
   "metadata": {},
   "outputs": [
    {
     "name": "stdout",
     "output_type": "stream",
     "text": [
      "Olá Sophie, Venha fazer parte daqui!\n"
     ]
    }
   ],
   "source": [
    "nome_pessoa = 'Sophie'\n",
    "email = f\"Olá {nome_pessoa}, Venha fazer parte daqui!\"\n",
    "print(email)"
   ]
  },
  {
   "cell_type": "code",
   "execution_count": 51,
   "metadata": {},
   "outputs": [],
   "source": [
    "n_aula = '01'\n",
    "diretorio_arquivo =  rf'F:\\Sophie\\Coding\\Atuais\\git\\aulas_transdevs\\python_basico\\aula_{n_aula}.ipynb'\n"
   ]
  },
  {
   "cell_type": "code",
   "execution_count": 52,
   "metadata": {},
   "outputs": [
    {
     "name": "stdout",
     "output_type": "stream",
     "text": [
      "F:\\Sophie\\Coding\\Atuais\\git\\aulas_transdevs\\python_basico\\aula_01.ipynb\n"
     ]
    }
   ],
   "source": [
    "print(diretorio_arquivo)"
   ]
  },
  {
   "cell_type": "code",
   "execution_count": 61,
   "metadata": {},
   "outputs": [
    {
     "name": "stdout",
     "output_type": "stream",
     "text": [
      "1\n"
     ]
    }
   ],
   "source": [
    "n_1 = 5\n",
    "n_2 = 2\n",
    "resultado = n_1 % n_2\n",
    "print(resultado)"
   ]
  },
  {
   "cell_type": "code",
   "execution_count": null,
   "metadata": {},
   "outputs": [],
   "source": [
    "temperatura = 25.6\n",
    "tempo = 5\n"
   ]
  },
  {
   "cell_type": "code",
   "execution_count": 62,
   "metadata": {},
   "outputs": [
    {
     "data": {
      "text/plain": [
       "['Maria', 'Jupyter', 'Eros']"
      ]
     },
     "execution_count": 62,
     "metadata": {},
     "output_type": "execute_result"
    }
   ],
   "source": [
    "lista = [\"Maria\",\"Jupyter\",\"Eros\"]\n",
    "lista"
   ]
  },
  {
   "cell_type": "code",
   "execution_count": 71,
   "metadata": {},
   "outputs": [
    {
     "name": "stdout",
     "output_type": "stream",
     "text": [
      "Maria\n",
      "Eros\n"
     ]
    }
   ],
   "source": [
    "print(lista[0])\n",
    "print(lista[-1])"
   ]
  },
  {
   "cell_type": "code",
   "execution_count": 72,
   "metadata": {},
   "outputs": [
    {
     "data": {
      "text/plain": [
       "[0, 1, 2, 3, 4, 5, 6, 7, 8, 9]"
      ]
     },
     "execution_count": 72,
     "metadata": {},
     "output_type": "execute_result"
    }
   ],
   "source": [
    "lista_2 = list(range(10))\n",
    "lista_2"
   ]
  },
  {
   "cell_type": "code",
   "execution_count": 75,
   "metadata": {},
   "outputs": [
    {
     "data": {
      "text/plain": [
       "[1, 'oi', 1.65566]"
      ]
     },
     "execution_count": 75,
     "metadata": {},
     "output_type": "execute_result"
    }
   ],
   "source": [
    "lista_3 = [1, 'oi', 1.65566]\n",
    "lista_3"
   ]
  },
  {
   "cell_type": "code",
   "execution_count": 78,
   "metadata": {},
   "outputs": [
    {
     "data": {
      "text/plain": [
       "float"
      ]
     },
     "execution_count": 78,
     "metadata": {},
     "output_type": "execute_result"
    }
   ],
   "source": [
    "type(lista_3[2])  "
   ]
  },
  {
   "cell_type": "code",
   "execution_count": 79,
   "metadata": {},
   "outputs": [
    {
     "data": {
      "text/plain": [
       "[1, 'oi', 1.65566, 'alo']"
      ]
     },
     "execution_count": 79,
     "metadata": {},
     "output_type": "execute_result"
    }
   ],
   "source": [
    "lista_3.append(\"alo\")\n",
    "lista_3"
   ]
  },
  {
   "cell_type": "code",
   "execution_count": 80,
   "metadata": {},
   "outputs": [
    {
     "data": {
      "text/plain": [
       "[1, 'oi', 1.65566]"
      ]
     },
     "execution_count": 80,
     "metadata": {},
     "output_type": "execute_result"
    }
   ],
   "source": [
    "lista_3.pop()\n",
    "lista_3"
   ]
  },
  {
   "cell_type": "code",
   "execution_count": 81,
   "metadata": {},
   "outputs": [
    {
     "data": {
      "text/plain": [
       "[1, 'oi', 1.65566, 0, 1, 2, 3, 4, 5, 6, 7, 8, 9]"
      ]
     },
     "execution_count": 81,
     "metadata": {},
     "output_type": "execute_result"
    }
   ],
   "source": [
    "lista_3.extend(lista_2)\n",
    "lista_3"
   ]
  },
  {
   "cell_type": "code",
   "execution_count": 83,
   "metadata": {},
   "outputs": [
    {
     "data": {
      "text/plain": [
       "[]"
      ]
     },
     "execution_count": 83,
     "metadata": {},
     "output_type": "execute_result"
    }
   ],
   "source": [
    "lista_3.clear()\n",
    "lista_3"
   ]
  },
  {
   "cell_type": "code",
   "execution_count": 84,
   "metadata": {},
   "outputs": [
    {
     "data": {
      "text/plain": [
       "[0, 1, 2, 3, 4, 5, 6, 7, 8, 9]"
      ]
     },
     "execution_count": 84,
     "metadata": {},
     "output_type": "execute_result"
    }
   ],
   "source": [
    "lista_3 = list(range(10))\n",
    "lista_3"
   ]
  },
  {
   "cell_type": "code",
   "execution_count": 89,
   "metadata": {},
   "outputs": [
    {
     "data": {
      "text/plain": [
       "[10, 0, 10, 1, 10, 2, 10, 3, 4, 5, 6, 7, 8, 9]"
      ]
     },
     "execution_count": 89,
     "metadata": {},
     "output_type": "execute_result"
    }
   ],
   "source": [
    "lista_3.insert(6,10)\n",
    "lista_3"
   ]
  },
  {
   "cell_type": "code",
   "execution_count": 92,
   "metadata": {},
   "outputs": [
    {
     "data": {
      "text/plain": [
       "[1, 10, 2, 10, 3, 4, 5, 6, 7, 8, 9]"
      ]
     },
     "execution_count": 92,
     "metadata": {},
     "output_type": "execute_result"
    }
   ],
   "source": [
    "lista_3.remove(10)\n",
    "lista_3"
   ]
  },
  {
   "cell_type": "code",
   "execution_count": 93,
   "metadata": {},
   "outputs": [
    {
     "data": {
      "text/plain": [
       "[10, 2, 10, 3, 4, 5, 6, 7, 8, 9]"
      ]
     },
     "execution_count": 93,
     "metadata": {},
     "output_type": "execute_result"
    }
   ],
   "source": [
    "lista_3.pop(0)\n",
    "lista_3"
   ]
  },
  {
   "cell_type": "code",
   "execution_count": 106,
   "metadata": {},
   "outputs": [
    {
     "data": {
      "text/plain": [
       "['Maria', 'Jupyter', 'Epaminondas', 'Horacio', 'Jupyter']"
      ]
     },
     "execution_count": 106,
     "metadata": {},
     "output_type": "execute_result"
    }
   ],
   "source": [
    "lista_4 = [\"Maria\",\"Jupyter\",\"Epaminondas\",\"Horacio\", \"Jupyter\"]\n",
    "lista_4"
   ]
  },
  {
   "cell_type": "code",
   "execution_count": 102,
   "metadata": {},
   "outputs": [
    {
     "data": {
      "text/plain": [
       "['Maria', 'Epaminondas', 'Horacio']"
      ]
     },
     "execution_count": 102,
     "metadata": {},
     "output_type": "execute_result"
    }
   ],
   "source": [
    "lista_4.remove(\"Jupyter\")\n",
    "lista_4\n"
   ]
  },
  {
   "cell_type": "code",
   "execution_count": 103,
   "metadata": {},
   "outputs": [
    {
     "data": {
      "text/plain": [
       "['Maria', 'Epaminondas']"
      ]
     },
     "execution_count": 103,
     "metadata": {},
     "output_type": "execute_result"
    }
   ],
   "source": [
    "lista_4.pop(-1)\n",
    "lista_4"
   ]
  },
  {
   "cell_type": "code",
   "execution_count": 104,
   "metadata": {},
   "outputs": [],
   "source": [
    "lista_4.insert(1,\"Caio\")\n"
   ]
  },
  {
   "cell_type": "code",
   "execution_count": 105,
   "metadata": {},
   "outputs": [
    {
     "data": {
      "text/plain": [
       "['Maria', 'Caio', 'Epaminondas']"
      ]
     },
     "execution_count": 105,
     "metadata": {},
     "output_type": "execute_result"
    }
   ],
   "source": [
    "lista_4"
   ]
  },
  {
   "cell_type": "code",
   "execution_count": 107,
   "metadata": {},
   "outputs": [
    {
     "data": {
      "text/plain": [
       "2"
      ]
     },
     "execution_count": 107,
     "metadata": {},
     "output_type": "execute_result"
    }
   ],
   "source": [
    "lista_4.count(\"Jupyter\")"
   ]
  },
  {
   "cell_type": "code",
   "execution_count": 108,
   "metadata": {},
   "outputs": [],
   "source": [
    "lista_5 = [2,3]\n",
    "tupla_1 = (2,3)"
   ]
  },
  {
   "cell_type": "code",
   "execution_count": 111,
   "metadata": {},
   "outputs": [
    {
     "data": {
      "text/plain": [
       "('Maria', 'Jupyter', 'Epaminondas', 'Horacio', 'Jupyter')"
      ]
     },
     "execution_count": 111,
     "metadata": {},
     "output_type": "execute_result"
    }
   ],
   "source": [
    "tupla_3 = tuple(lista_4)\n",
    "tupla_3"
   ]
  },
  {
   "cell_type": "markdown",
   "metadata": {},
   "source": [
    "# Exercício - Aula 2\n",
    "\n",
    "## Carrinho de Compras 🛒\n",
    "\n",
    "Depois de darmos uma passadinha pelo site da **Shópi**, vimos alguns itens interessantes.\n",
    "\n",
    "### Objetivo:\n",
    "Criar uma lista composta por vários **dicionários** (`dict`). Cada dicionário deve representar um item do carrinho de compras.\n",
    "\n",
    "---\n",
    "\n",
    "### Requisitos:\n",
    "1. Cada dicionário deve conter, no mínimo, as seguintes chaves:\n",
    "   - **`nome`**: Nome do item.\n",
    "   - **`quantidade`**: Quantidade desejada do item.(Deve ter pelo menos **2 unidades**)\n",
    "   - **`preco_unitario`**: Preço de cada unidade do item.\n",
    "\n",
    "2. A lista final deve ser composta por pelo menos **3 itens diferentes**.\n",
    "\n",
    "---\n",
    "\n",
    "### Exemplo:\n",
    "```python\n",
    "carrinho = [\n",
    "    {\"nome\": \"Calça Bege\", \"quantidade\": 3, \"preco_unitario\": 52.50},\n",
    "    {\"nome\": \"Chapéu de Marinheiro\", \"quantidade\": 10, \"preco_unitario\": 42.10},\n",
    "    {\"nome\": \"Mochila de Capivara\", \"quantidade\": 5, \"preco_unitario\": 120.00}\n",
    "]\n",
    "\n"
   ]
  },
  {
   "cell_type": "code",
   "execution_count": 112,
   "metadata": {},
   "outputs": [],
   "source": [
    "#Fazer aqui seu carrinho\n",
    "\n"
   ]
  },
  {
   "cell_type": "markdown",
   "metadata": {},
   "source": [
    "---\n",
    "\n",
    "## Remover o Primeiro Item 🗑️\n",
    "\n",
    "### O que aconteceu? 🤔\n",
    "\n",
    "Durante nossa aventura de compras, percebemos que adicionamos o primeiro item **por engano**. Talvez tenha sido o entusiasmo de ver tantas promoções, mas agora é hora de corrigir isso e remover o item errado do nosso carrinho!\n",
    "\n",
    "---\n",
    "\n",
    "### Passos para Remover o Primeiro Item:\n",
    "\n",
    "1. Use o método `pop(0)` para remover o item no índice 0 (o primeiro da lista).\n",
    "2. Armazene o item removido em uma variável para verificarmos qual foi excluído.\n",
    "3. Atualize o carrinho para refletir a mudança.\n",
    "\n",
    "---\n",
    "\n",
    "### Código de Exemplo:\n",
    "\n",
    "```python\n",
    "# Carrinho de compras\n",
    "carrinho = [\n",
    "    {\"nome\": \"Machado de Guerra\", \"quantidade\": 20, \"preco_unitario\": 2500.50},\n",
    "    {\"nome\": \"Camiseta Legal\", \"quantidade\": 4, \"preco_unitario\": 52.30},\n",
    "    {\"nome\": \"Mochila de Hyrax\", \"quantidade\": 6, \"preco_unitario\": 200.00}\n",
    "]\n",
    "\n",
    "# Removendo o primeiro item\n",
    "item_removido = carrinho.pop(0)\n",
    "\n",
    "# Exibindo o carrinho atualizado\n",
    "print(f\"Carrinho atualizado: {carrinho}\")\n",
    "\n",
    "# Exibindo o item removido\n",
    "print(f\"Item removido por engano: {item_removido}\")\n"
   ]
  },
  {
   "cell_type": "code",
   "execution_count": null,
   "metadata": {},
   "outputs": [],
   "source": [
    "#Vamos fazer essa mudança aqui\n",
    "\n",
    "\n"
   ]
  },
  {
   "cell_type": "markdown",
   "metadata": {},
   "source": [
    "---\n",
    "\n",
    "## Adicionar um Novo Item 🛍️\n",
    "\n",
    "### O que aconteceu agora? 🤔\n",
    "\n",
    "Depois de corrigir o engano e remover o item errado, lembramos que ainda precisamos adicionar um novo item ao carrinho — agora o item **certo**! Vamos garantir que nossa lista fique completa para finalizar a compra.\n",
    "\n",
    "---\n",
    "\n",
    "### Passos para Adicionar um Novo Item:\n",
    "\n",
    "1. Use o método `append()` para adicionar um novo dicionário ao final da lista do carrinho.\n",
    "2. Certifique-se de que o dicionário contenha as informações básicas do item:\n",
    "   - **`nome`**: Nome do produto.\n",
    "   - **`quantidade`**: Quantidade desejada.\n",
    "   - **`preco_unitario`**: Preço de cada unidade do item.\n",
    "\n",
    "---\n",
    "\n",
    "### Código de Exemplo:\n",
    "\n",
    "```python\n",
    "# Carrinho de compras atualizado\n",
    "carrinho = [\n",
    "    {\"nome\": \"Caderno\", \"quantidade\": 6, \"preco_unitario\": 15.00},\n",
    "    {\"nome\": \"Mochila\", \"quantidade\": 10, \"preco_unitario\": 120.00}\n",
    "]\n",
    "\n",
    "# Novo item a ser adicionado\n",
    "novo_item = {\"nome\": \"Estojo\", \"quantidade\": 1, \"preco_unitario\": 25.00}\n",
    "\n",
    "# Adicionando o novo item ao carrinho\n",
    "carrinho.append(novo_item)\n",
    "\n",
    "# Exibindo o carrinho atualizado\n",
    "print(f\"Carrinho atualizado: {carrinho}\")\n"
   ]
  },
  {
   "cell_type": "code",
   "execution_count": null,
   "metadata": {},
   "outputs": [],
   "source": [
    "#Vamos adicionar aqui esse item!\n",
    "\n",
    "\n"
   ]
  },
  {
   "cell_type": "markdown",
   "metadata": {},
   "source": [
    "---\n",
    "\n",
    "## Checkout 🧾\n",
    "\n",
    "Agora que já montamos nosso **carrinho de compras**, vamos calcular o **preço final** diretamente, usando variáveis para cada cálculo e arredondando os valores com `round`.\n",
    "\n",
    "---\n",
    "\n",
    "### Código de Exemplo:\n",
    "\n",
    "```python\n",
    "# Carrinho de compras\n",
    "carrinho = [\n",
    "    {\"nome\": \"Caneta\", \"quantidade\": 3, \"preco_unitario\": 1.50},\n",
    "    {\"nome\": \"Caderno\", \"quantidade\": 5, \"preco_unitario\": 15.00},\n",
    "    {\"nome\": \"Mochila\", \"quantidade\": 6, \"preco_unitario\": 120.00}\n",
    "]\n",
    "\n",
    "# Acessando os valores e calculando os preços\n",
    "quantidade_1 = carrinho[0][\"quantidade\"]\n",
    "preco_1 = carrinho[0][\"preco_unitario\"]\n",
    "preco_item_1 = round(quantidade_1 * preco_1, 2)\n",
    "\n",
    "quantidade_2 = carrinho[1][\"quantidade\"]\n",
    "preco_2 = carrinho[1][\"preco_unitario\"]\n",
    "preco_item_2 = round(quantidade_2 * preco_2, 2)\n",
    "\n",
    "quantidade_3 = carrinho[2][\"quantidade\"]\n",
    "preco_3 = carrinho[2][\"preco_unitario\"]\n",
    "preco_item_3 = round(quantidade_3 * preco_3, 2)\n",
    "\n",
    "# Somando os preços para obter o total\n",
    "total = round(preco_item_1 + preco_item_2 + preco_item_3, 2)\n",
    "\n",
    "# Exibindo o total final\n",
    "print(f\"Total: R$ {total}\")\n"
   ]
  },
  {
   "cell_type": "code",
   "execution_count": null,
   "metadata": {},
   "outputs": [],
   "source": [
    "# Faça o check-out aqui, e exiba o preço final como mostrado no exemplo acima (função print com f string)\n",
    "\n"
   ]
  }
 ],
 "metadata": {
  "kernelspec": {
   "display_name": "base",
   "language": "python",
   "name": "python3"
  },
  "language_info": {
   "codemirror_mode": {
    "name": "ipython",
    "version": 3
   },
   "file_extension": ".py",
   "mimetype": "text/x-python",
   "name": "python",
   "nbconvert_exporter": "python",
   "pygments_lexer": "ipython3",
   "version": "3.12.7"
  }
 },
 "nbformat": 4,
 "nbformat_minor": 2
}
