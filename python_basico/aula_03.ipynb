{
 "cells": [
  {
   "cell_type": "code",
   "execution_count": 2,
   "metadata": {},
   "outputs": [
    {
     "name": "stdout",
     "output_type": "stream",
     "text": [
      "Está sol, recolhi as roupas do varal\n"
     ]
    }
   ],
   "source": [
    "#Exemplo IF, ELIF e ELSE\n",
    "chove = False #True é verdadeiro, False é Falso\n",
    "if chove != True:\n",
    "    print(\"Está sol, recolhi as roupas do varal\")\n",
    "elif chove == True:\n",
    "    print(\"Corre, está chovendo\")"
   ]
  },
  {
   "cell_type": "code",
   "execution_count": 3,
   "metadata": {},
   "outputs": [
    {
     "name": "stdout",
     "output_type": "stream",
     "text": [
      "Sinto muito, não temos\n"
     ]
    }
   ],
   "source": [
    "#Exemplo IF Longo com Else\n",
    "cor_calça_estoque = \"caqui\"\n",
    "\n",
    "if cor_calça_estoque == \"preta\":\n",
    "    print(\"temos disponível calça preta\")\n",
    "    print(\"boas compras!\")\n",
    "elif cor_calça_estoque == \"marrom\":\n",
    "    print(\"temos disponível calça marrom\")\n",
    "    print(\"boas compras!\")\n",
    "elif cor_calça_estoque == \"vermelha\":\n",
    "    print(\"temos disponível calça vermelha\")\n",
    "    print(\"boas compras!\") \n",
    "else:\n",
    "    print(\"Sinto muito, não temos\")"
   ]
  },
  {
   "cell_type": "code",
   "execution_count": 4,
   "metadata": {},
   "outputs": [
    {
     "name": "stdout",
     "output_type": "stream",
     "text": [
      "O nome é: Sophia, e o pronome é: ela/dela\n",
      "O nome é: Milo, e o pronome é: ele/dele\n",
      "O nome é: Talen, e o pronome é: ela/dela\n",
      "O nome é: Jupy, e o pronome é: elu/delu\n"
     ]
    }
   ],
   "source": [
    "#Exemplo FOR e FOR In Range\n",
    "lista_pessoas=[\n",
    "    {\"nome\":\"Sophia\",\"pronome\":\"ela/dela\"},\n",
    "    {\"nome\":\"Milo\",\"pronome\":\"ele/dele\"},\n",
    "    {\"nome\":\"Talen\",\"pronome\":\"ela/dela\"},\n",
    "    {\"nome\":\"Jupy\",\"pronome\":\"elu/delu\"}\n",
    "]\n",
    "\n",
    "for pessoa in lista_pessoas:\n",
    "    print(f\"O nome é: {pessoa[\"nome\"]}, e o pronome é: {pessoa[\"pronome\"]}\")"
   ]
  },
  {
   "cell_type": "code",
   "execution_count": 5,
   "metadata": {},
   "outputs": [
    {
     "name": "stdout",
     "output_type": "stream",
     "text": [
      "1 2 1 0\n"
     ]
    }
   ],
   "source": [
    "#Contando pronomes\n",
    "pronome_masc = 0\n",
    "pronome_fem = 0\n",
    "pronome_neu = 0\n",
    "pronome_outros = 0\n",
    "for pessoa in lista_pessoas:\n",
    "    if pessoa[\"pronome\"] == \"ele/dele\":\n",
    "        pronome_masc += 1\n",
    "    elif pessoa[\"pronome\"] == \"ela/dela\":\n",
    "        pronome_fem += 1\n",
    "    elif pessoa[\"pronome\"] == \"elu/delu\":\n",
    "        pronome_neu += 1\n",
    "    else:\n",
    "        pronome_outros +=1\n",
    "\n",
    "print(pronome_masc, pronome_fem, pronome_neu, pronome_outros)\n",
    "\n",
    "\n"
   ]
  },
  {
   "cell_type": "code",
   "execution_count": 6,
   "metadata": {},
   "outputs": [
    {
     "name": "stdout",
     "output_type": "stream",
     "text": [
      "413.73\n"
     ]
    }
   ],
   "source": [
    "# exemplo dentro da lista\n",
    "\n",
    "# Faça o check-out aqui, e exiba o prequantidade_1 = carrinho[0][\"quantidade\"]\n",
    "carrinho = [{'nome': 'Base Bruna Tavares', 'quantidade': 4, 'preco_unitario': 50.99},\n",
    "            {'nome': 'Pó Rosa Karen Bachini', 'quantidade': 3, 'preco_unitario': 45.99},\n",
    "            {'nome': 'Fixador Vizzela', 'quantidade': 2, 'preco_unitario': 35.90}]\n",
    "total = 0 #total, na onde vou adicionar os preços\n",
    "\n",
    "for item in carrinho: \n",
    "    quantidade = item['quantidade']\n",
    "    preco = item['preco_unitario']\n",
    "    preco_item = round(quantidade * preco, 2)\n",
    "    #print(preco_item)\n",
    "    #total += preco_item #adiciono o preço do item aopróprio total\n",
    "    total = total + preco_item \n",
    "\n",
    "print(total)\n"
   ]
  },
  {
   "cell_type": "code",
   "execution_count": 7,
   "metadata": {},
   "outputs": [
    {
     "name": "stdout",
     "output_type": "stream",
     "text": [
      "2001.5\n"
     ]
    }
   ],
   "source": [
    "# Exemplo for in range\n",
    "total_segundos = 10 # DEVE SER INTEIRO\n",
    "preço_gasolina = 200.15 #Reais\n",
    "total = 0\n",
    "for segundos in range(total_segundos):\n",
    "    total += preço_gasolina\n",
    "\n",
    "print(round(total,2)) "
   ]
  },
  {
   "cell_type": "code",
   "execution_count": 8,
   "metadata": {},
   "outputs": [],
   "source": [
    "#While para sempre\n",
    "\n",
    "#while True:\n",
    "#    print(\"oi\")\n",
    "\n",
    "#Clicar em parar na célula ou ctrl+c no terminal"
   ]
  },
  {
   "cell_type": "code",
   "execution_count": 9,
   "metadata": {},
   "outputs": [
    {
     "name": "stdout",
     "output_type": "stream",
     "text": [
      "total que paguei: 21.0 Reais, quantidade: 16 litros\n"
     ]
    }
   ],
   "source": [
    "#Exemplo while normal\n",
    "valor_max = 21 #valor maximo que eu quero pagar em reais\n",
    "quantidade_gasolina = 0\n",
    "preco_gasolina_litro = 1.50 #por litro\n",
    "\n",
    "valor_pago = 0\n",
    "\n",
    "while valor_pago<valor_max:\n",
    "    quantidade += 1 #litro\n",
    "    valor_pago += (preco_gasolina_litro*1)\n",
    "\n",
    "#valor_pago = valor_pago - preco_gasolina_litro*1  #se ultrapassar o valor, usamos isso\n",
    "print(f\"total que paguei: {valor_pago} Reais, quantidade: {quantidade} litros\")"
   ]
  },
  {
   "attachments": {
    "image.png": {
     "image/png": "[encoded data removed]"
    }
   },
   "cell_type": "markdown",
   "metadata": {},
   "source": [
    "# **Exercício - Aula 03** -> Data de entrega 09/01\n",
    "# **Análise de Conversão de Campanhas de Marketing**\n",
    "\n",
    "Uma empresa realizou **campanhas de marketing** em diversos canais para atrair novos clientes. Cada canal gerou um número específico de **visitas** e obteve um número de **conversões** (vendas ou cadastros).\n",
    "\n",
    "## **Objetivo**\n",
    "\n",
    "1. Calcular e exibir a **taxa de conversão (%)** de cada canal.  \n",
    "2. Identificar e exibir:\n",
    "   - O canal com a **maior taxa de conversão**.  \n",
    "   - O canal com a **menor taxa de conversão**.  \n",
    "\n",
    "---\n",
    "\n",
    "## **Dados**\n",
    "\n",
    "Os dados fornecidos são:\n",
    "- Um **dicionário** contendo, para cada canal, a quantidade de **visitas** e **conversões**.  \n",
    "\n",
    "Dados:\n",
    "\n",
    "```python\n",
    "\n",
    "dados_marketing = {\n",
    "    \"E-mail\": {\"visitas\": 5000, \"conversoes\": 400},\n",
    "    \"Redes Sociais\": {\"visitas\": 8000, \"conversoes\": 480},\n",
    "    \"Anúncios Pagos\": {\"visitas\": 12000, \"conversoes\": 720},\n",
    "    \"SEO\": {\"visitas\": 15000, \"conversoes\": 600},\n",
    "    \"YouTube Ads\": {\"visitas\": 9000, \"conversoes\": 450},\n",
    "    \"Google Ads\": {\"visitas\": 11000, \"conversoes\": 700},\n",
    "    \"TikTok Ads\": {\"visitas\": 7000, \"conversoes\": 350},\n",
    "    \"Influenciadores\": {\"visitas\": 10000, \"conversoes\": 300},\n",
    "    \"Blog\": {\"visitas\": 14000, \"conversoes\": 560},\n",
    "    \"LinkedIn Ads\": {\"visitas\": 6000, \"conversoes\": 300},\n",
    "    \"WhatsApp Marketing\": {\"visitas\": 4000, \"conversoes\": 280},\n",
    "    \"SMS Marketing\": {\"visitas\": 3000, \"conversoes\": 180},\n",
    "    \"Eventos\": {\"visitas\": 2000, \"conversoes\": 250}\n",
    "}\n",
    "```\n",
    "\n",
    "---\n",
    "\n",
    "## **Regras**\n",
    "\n",
    "1. Calcule a **taxa de conversão** para cada canal usando a seguinte fórmula:  \n",
    "\n",
    "![image.png](attachment:image.png)\n",
    "\n",
    "   - As taxas devem ser exibidas com **duas casas decimais**.  \n",
    "\n",
    "2. Identifique o canal com a **maior taxa de conversão** e o canal com a **menor taxa de conversão**.  \n",
    "\n",
    "---\n",
    "\n",
    "## **Formato de Saída**\n",
    "\n",
    "O programa deve exibir as informações no seguinte formato:\n",
    "\n",
    "```\n",
    "Taxa de conversão por canal:\n",
    "- E-mail: 8.00%\n",
    "- Redes Sociais: 6.00%\n",
    "- Anúncios Pagos: 6.00%\n",
    "- SEO: 4.00%\n",
    "- YouTube Ads: 5.00%\n",
    "- Google Ads: 6.36%\n",
    "- TikTok Ads: 5.00%\n",
    "- Influenciadores: 3.00%\n",
    "- Blog: 4.00%\n",
    "- LinkedIn Ads: 5.00%\n",
    "- WhatsApp Marketing: 7.00%\n",
    "- SMS Marketing: 6.00%\n",
    "- Eventos: 12.50%\n",
    "\n",
    "Canal com maior taxa de conversão: Eventos (12.50%)\n",
    "Canal com menor taxa de conversão: Influenciadores (3.00%)\n",
    "```\n",
    "\n",
    "---\n",
    "\n",
    "\n"
   ]
  },
  {
   "cell_type": "code",
   "execution_count": null,
   "metadata": {},
   "outputs": [],
   "source": [
    "#Crie células abaixo para fazer o exercício, não se esqueça das boas práticas de código, e comente o que fizer!!!!!!\n",
    "\n",
    "\n"
   ]
  },
  {
   "cell_type": "markdown",
   "metadata": {},
   "source": [
    "# **Parte 2: Classificação dos Canais de Marketing**\n",
    "\n",
    "Com base nas **taxas de conversão** calculadas na primeira parte, o programa deve agora **classificar** os canais de marketing em categorias.\n",
    "\n",
    "## **Objetivo**\n",
    "\n",
    "1. Classificar cada canal em uma das seguintes categorias, com base em sua **taxa de conversão**:  \n",
    "   - **Excelente**: Taxa de conversão superior a **10%**.  (conversão > 10%)\n",
    "   - **Bom**: Taxa de conversão entre **5% e 10%** (conversão >= 5% e conversão >= 10%).  \n",
    "   - **Precisa Melhorar**: Taxa de conversão inferior a **5%**.  (conversão < 5%)\n",
    "\n",
    "2. Exibir a classificação de cada canal no seguinte formato:\n",
    "\n",
    "```\n",
    "Classificação dos Canais:\n",
    "- E-mail: Bom\n",
    "- Redes Sociais: Bom\n",
    "- Anúncios Pagos: Bom\n",
    "- SEO: Precisa Melhorar\n",
    "- YouTube Ads: Bom\n",
    "- Google Ads: Bom\n",
    "- TikTok Ads: Bom\n",
    "- Influenciadores: Precisa Melhorar\n",
    "- Blog: Precisa Melhorar\n",
    "- LinkedIn Ads: Bom\n",
    "- WhatsApp Marketing: Bom\n",
    "- SMS Marketing: Bom\n",
    "- Eventos: Excelente\n",
    "```\n",
    "\n",
    "---\n",
    "\n",
    "## **Regras**\n",
    "\n",
    "1. As classificações devem seguir as seguintes regras:  \n",
    "\n",
    "   - **Excelente**: Taxa > 10%  \n",
    "   - **Bom**: 5% ≤ Taxa ≤ 10%  \n",
    "   - **Precisa Melhorar**: Taxa < 5%  \n",
    "\n",
    "2. Garanta que o programa utilize os valores calculados na **Parte 1**.  \n",
    "\n"
   ]
  },
  {
   "cell_type": "code",
   "execution_count": null,
   "metadata": {},
   "outputs": [],
   "source": [
    "#Crie células abaixo para fazer o exercício, não se esqueça das boas práticas de código, e comente o que fizer!!!!!!\n",
    "\n"
   ]
  },
  {
   "cell_type": "markdown",
   "metadata": {},
   "source": [
    "# **Parte 3: Conte quantos canais pertencem a cada categoria**\n",
    "\n",
    "## **Regras:**\n",
    "\n",
    "1. exiba o resultado final no seguinte formato:\n",
    "\n",
    "```\n",
    "Resumo Final:\n",
    "- Excelente: 1 \n",
    "- Bom: 9 \n",
    "- Precisa Melhorar: 3 \n",
    "```"
   ]
  },
  {
   "cell_type": "code",
   "execution_count": null,
   "metadata": {},
   "outputs": [],
   "source": [
    "#Crie células abaixo para fazer o exercício, não se esqueça das boas práticas de código, e comente o que fizer!!!!!!\n",
    "\n"
   ]
  }
 ],
 "metadata": {
  "kernelspec": {
   "display_name": "base",
   "language": "python",
   "name": "python3"
  },
  "language_info": {
   "codemirror_mode": {
    "name": "ipython",
    "version": 3
   },
   "file_extension": ".py",
   "mimetype": "text/x-python",
   "name": "python",
   "nbconvert_exporter": "python",
   "pygments_lexer": "ipython3",
   "version": "3.12.7"
  }
 },
 "nbformat": 4,
 "nbformat_minor": 2
}
