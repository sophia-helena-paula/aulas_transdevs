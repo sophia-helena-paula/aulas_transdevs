{
 "cells": [
  {
   "cell_type": "code",
   "execution_count": 9,
   "metadata": {},
   "outputs": [],
   "source": [
    "#Eexemplo função\n",
    "def somar(a,b): # nome e parametros\n",
    "    resultado_soma = a+b #corpo da funcao\n",
    "    return resultado_soma # retorno"
   ]
  },
  {
   "cell_type": "code",
   "execution_count": 10,
   "metadata": {},
   "outputs": [
    {
     "data": {
      "text/plain": [
       "3"
      ]
     },
     "execution_count": 10,
     "metadata": {},
     "output_type": "execute_result"
    }
   ],
   "source": [
    "somar(1,2) #chamando a função"
   ]
  },
  {
   "cell_type": "code",
   "execution_count": 8,
   "metadata": {},
   "outputs": [
    {
     "ename": "NameError",
     "evalue": "name 'resultado_soma' is not defined",
     "output_type": "error",
     "traceback": [
      "\u001b[1;31m---------------------------------------------------------------------------\u001b[0m",
      "\u001b[1;31mNameError\u001b[0m                                 Traceback (most recent call last)",
      "Cell \u001b[1;32mIn[8], line 1\u001b[0m\n\u001b[1;32m----> 1\u001b[0m resultado_soma\n",
      "\u001b[1;31mNameError\u001b[0m: name 'resultado_soma' is not defined"
     ]
    }
   ],
   "source": [
    "resultado_soma #tentando chamar uma variavel de dentro de uma função sem retornar ela"
   ]
  },
  {
   "cell_type": "code",
   "execution_count": 8,
   "metadata": {},
   "outputs": [],
   "source": [
    "class Automacao: # Nome da classe\n",
    "    def __init__(self, nome_da_casa): # Atributos da classe\n",
    "        self.nome_da_casa = nome_da_casa\n",
    "    def ligar_luzes(self, luz_1, luz_2):   #método da classe para ligar as luzes\n",
    "        if luz_1 == True:\n",
    "            print(\"liguei a luz do quarto\")\n",
    "        else:\n",
    "            print(\"A luz do quarto ta desligada\")\n",
    "        if luz_2 == True:\n",
    "            print(\"liguei a luz da sala\")\n",
    "        else:\n",
    "            print(\"A luz da sala ta desligada\")"
   ]
  },
  {
   "cell_type": "code",
   "execution_count": 9,
   "metadata": {},
   "outputs": [],
   "source": [
    "casa1 = Automacao(\"Casa da Sopinha\")"
   ]
  },
  {
   "cell_type": "code",
   "execution_count": 10,
   "metadata": {},
   "outputs": [
    {
     "data": {
      "text/plain": [
       "'Casa da Sopinha'"
      ]
     },
     "execution_count": 10,
     "metadata": {},
     "output_type": "execute_result"
    }
   ],
   "source": [
    "casa1.nome_da_casa"
   ]
  },
  {
   "cell_type": "code",
   "execution_count": 11,
   "metadata": {},
   "outputs": [
    {
     "name": "stdout",
     "output_type": "stream",
     "text": [
      "A luz do quarto ta desligada\n",
      "A luz da sala ta desligada\n"
     ]
    }
   ],
   "source": [
    "casa1.ligar_luzes(False, False)"
   ]
  },
  {
   "cell_type": "code",
   "execution_count": 12,
   "metadata": {},
   "outputs": [],
   "source": [
    "dados_marketing = {\n",
    "    \"E-mail\": {\"visitas\": 5000, \"conversoes\": 400},\n",
    "    \"Redes Sociais\": {\"visitas\": 8000, \"conversoes\": 480},\n",
    "    \"Anúncios Pagos\": {\"visitas\": 12000, \"conversoes\": 720},\n",
    "    \"SEO\": {\"visitas\": 15000, \"conversoes\": 600},\n",
    "    \"YouTube Ads\": {\"visitas\": 9000, \"conversoes\": 450},\n",
    "    \"Google Ads\": {\"visitas\": 11000, \"conversoes\": 700},\n",
    "    \"TikTok Ads\": {\"visitas\": 7000, \"conversoes\": 350},\n",
    "    \"Influenciadores\": {\"visitas\": 10000, \"conversoes\": 300},\n",
    "    \"Blog\": {\"visitas\": 14000, \"conversoes\": 560},\n",
    "    \"LinkedIn Ads\": {\"visitas\": 6000, \"conversoes\": 300},\n",
    "    \"WhatsApp Marketing\": {\"visitas\": 4000, \"conversoes\": 280},\n",
    "    \"SMS Marketing\": {\"visitas\": 3000, \"conversoes\": 180},\n",
    "    \"Eventos\": {\"visitas\": 2000, \"conversoes\": 250}\n",
    "}"
   ]
  },
  {
   "cell_type": "code",
   "execution_count": 13,
   "metadata": {},
   "outputs": [
    {
     "data": {
      "text/plain": [
       "{'E-mail': {'visitas': 5000, 'conversoes': 400},\n",
       " 'Redes Sociais': {'visitas': 8000, 'conversoes': 480},\n",
       " 'Anúncios Pagos': {'visitas': 12000, 'conversoes': 720},\n",
       " 'SEO': {'visitas': 15000, 'conversoes': 600},\n",
       " 'YouTube Ads': {'visitas': 9000, 'conversoes': 450},\n",
       " 'Google Ads': {'visitas': 11000, 'conversoes': 700},\n",
       " 'TikTok Ads': {'visitas': 7000, 'conversoes': 350},\n",
       " 'Influenciadores': {'visitas': 10000, 'conversoes': 300},\n",
       " 'Blog': {'visitas': 14000, 'conversoes': 560},\n",
       " 'LinkedIn Ads': {'visitas': 6000, 'conversoes': 300},\n",
       " 'WhatsApp Marketing': {'visitas': 4000, 'conversoes': 280},\n",
       " 'SMS Marketing': {'visitas': 3000, 'conversoes': 180},\n",
       " 'Eventos': {'visitas': 2000, 'conversoes': 250}}"
      ]
     },
     "execution_count": 13,
     "metadata": {},
     "output_type": "execute_result"
    }
   ],
   "source": [
    "dados_marketing"
   ]
  },
  {
   "cell_type": "code",
   "execution_count": 14,
   "metadata": {},
   "outputs": [
    {
     "name": "stdout",
     "output_type": "stream",
     "text": [
      "- E-mail: 8.00%\n",
      "- Redes Sociais: 6.00%\n",
      "- Anúncios Pagos: 6.00%\n",
      "- SEO: 4.00%\n",
      "- YouTube Ads: 5.00%\n",
      "- Google Ads: 6.36%\n",
      "- TikTok Ads: 5.00%\n",
      "- Influenciadores: 3.00%\n",
      "- Blog: 4.00%\n",
      "- LinkedIn Ads: 5.00%\n",
      "- WhatsApp Marketing: 7.00%\n",
      "- SMS Marketing: 6.00%\n",
      "- Eventos: 12.50%\n"
     ]
    },
    {
     "data": {
      "text/plain": [
       "[{'nome': 'E-mail', 'taxa': 8.0},\n",
       " {'nome': 'Redes Sociais', 'taxa': 6.0},\n",
       " {'nome': 'Anúncios Pagos', 'taxa': 6.0},\n",
       " {'nome': 'SEO', 'taxa': 4.0},\n",
       " {'nome': 'YouTube Ads', 'taxa': 5.0},\n",
       " {'nome': 'Google Ads', 'taxa': 6.36},\n",
       " {'nome': 'TikTok Ads', 'taxa': 5.0},\n",
       " {'nome': 'Influenciadores', 'taxa': 3.0},\n",
       " {'nome': 'Blog', 'taxa': 4.0},\n",
       " {'nome': 'LinkedIn Ads', 'taxa': 5.0},\n",
       " {'nome': 'WhatsApp Marketing', 'taxa': 7.0},\n",
       " {'nome': 'SMS Marketing', 'taxa': 6.0},\n",
       " {'nome': 'Eventos', 'taxa': 12.5}]"
      ]
     },
     "execution_count": 14,
     "metadata": {},
     "output_type": "execute_result"
    }
   ],
   "source": [
    "taxas = []\n",
    "for dado in dados_marketing :\n",
    "    # Obtém de dados\n",
    "    conversoes = dados_marketing[dado]['conversoes']\n",
    "    visitas = dados_marketing[dado]['visitas']\n",
    "    # Realiza cálculo\n",
    "    taxa_conversao = round((conversoes/visitas) * 100, 2)\n",
    "    # Mostra resultados\n",
    "    print(f\"- {dado}: {taxa_conversao:,.2f}%\")\n",
    "\n",
    "    # Adiciona dados na lista\n",
    "    infos = {\"nome\" : dado, \"taxa\" : taxa_conversao}\n",
    "    taxas.append(infos)\n",
    "taxas"
   ]
  },
  {
   "cell_type": "code",
   "execution_count": 19,
   "metadata": {},
   "outputs": [],
   "source": [
    "def max_min_taxa(taxa):\n",
    "    maior_taxa = 0\n",
    "    menor_taxa = 100\n",
    "    for item in range(len(taxas)) :\n",
    "        valor_taxa = taxas[item]['taxa']\n",
    "        if valor_taxa >= maior_taxa :\n",
    "            maior_taxa = valor_taxa\n",
    "            index_maior = taxas.index(taxas[item])\n",
    "        if valor_taxa <= menor_taxa :\n",
    "            menor_taxa = valor_taxa\n",
    "            index_menor = taxas.index(taxas[item])\n",
    "    return maior_taxa, menor_taxa\n",
    "        "
   ]
  },
  {
   "cell_type": "code",
   "execution_count": 21,
   "metadata": {},
   "outputs": [
    {
     "name": "stdout",
     "output_type": "stream",
     "text": [
      "12.5\n",
      "3.0\n"
     ]
    }
   ],
   "source": [
    "maior, menor = max_min_taxa(taxas)\n",
    "print(maior)\n",
    "print(menor)"
   ]
  },
  {
   "cell_type": "markdown",
   "metadata": {},
   "source": [
    "# **Exercício - Aula 04** -> Data de entrega 21/01  \n",
    "# **Sistema de Fila de Espera no Hospital com Priorização**\n",
    "\n",
    "Um hospital deseja organizar o atendimento de pacientes em uma **fila de espera** priorizando idosos e classificando os casos em **níveis de urgência**.\n",
    "\n",
    "## **Objetivo**\n",
    "\n",
    "1. Criar um sistema que:\n",
    "   - Classifique os pacientes em **alta urgência**, **média urgência** e **baixa urgência**.\n",
    "   - Priorize o atendimento de **idosos** (idade ≥ 60 anos).\n",
    "2. Exibir a ordem de atendimento considerando:\n",
    "   - A **urgência** (alta → média → baixa).  \n",
    "   - A **idade** (idosos têm prioridade dentro de cada nível de urgência).\n",
    "\n",
    "---\n",
    "\n",
    "## **Regras**\n",
    "\n",
    "1. Crie uma **classe** `Paciente` com os seguintes atributos:\n",
    "   - Nome do paciente.\n",
    "   - Idade.\n",
    "   - Classificação de urgência (**alta**, **média** ou **baixa**).  \n",
    "\n",
    "2. Crie uma **classe** `FilaHospital` com os seguintes métodos:\n",
    "   - `adicionar_paciente`: adiciona um paciente à fila.  \n",
    "   - `exibir_fila`: exibe a ordem de atendimento no formato:\n",
    "     ```\n",
    "     Alta urgência:\n",
    "     - Nome: Maria | Idade: 72 anos\n",
    "     - Nome: João | Idade: 65 anos\n",
    "\n",
    "     Média urgência:\n",
    "     - Nome: Lucas | Idade: 50 anos\n",
    "\n",
    "     Baixa urgência:\n",
    "     - Nome: Ana | Idade: 34 anos\n",
    "     ```\n",
    "   - `proximo_paciente`: remove e retorna o próximo paciente na ordem de atendimento.\n",
    "\n",
    "3. A prioridade de atendimento segue a ordem:\n",
    "   - **Alta urgência** > **Média urgência** > **Baixa urgência**.\n",
    "   - Dentro de cada categoria de urgência, **idosos (idade ≥ 60 anos)** têm prioridade.\n",
    "\n",
    "---\n",
    "\n",
    "## **Dados de Entrada**\n",
    "\n",
    "Os dados fornecidos são:  \n",
    "\n",
    "```python\n",
    "pacientes = [\n",
    "    {\"nome\": \"Maria\", \"idade\": 72, \"urgencia\": \"alta\"},\n",
    "    {\"nome\": \"Lucas\", \"idade\": 50, \"urgencia\": \"média\"},\n",
    "    {\"nome\": \"Ana\", \"idade\": 34, \"urgencia\": \"baixa\"},\n",
    "    {\"nome\": \"João\", \"idade\": 65, \"urgencia\": \"alta\"},\n",
    "    {\"nome\": \"Clara\", \"idade\": 28, \"urgencia\": \"média\"},\n",
    "    {\"nome\": \"Pedro\", \"idade\": 80, \"urgencia\": \"alta\"},\n",
    "    {\"nome\": \"Carla\", \"idade\": 59, \"urgencia\": \"baixa\"}\n",
    "]\n"
   ]
  },
  {
   "cell_type": "markdown",
   "metadata": {},
   "source": [
    "## **Formato de Saída**\n",
    "\n",
    "A exibição inicial da fila de atendimento deve ser:\n",
    "\n",
    "```\n",
    "Ordem de Atendimento\n",
    "\n",
    "Alta urgência:\n",
    "- Nome: Pedro | Idade: 80 anos\n",
    "- Nome: Maria | Idade: 72 anos\n",
    "- Nome: João | Idade: 65 anos\n",
    "\n",
    "Média urgência:\n",
    "- Nome: Lucas | Idade: 50 anos\n",
    "- Nome: Clara | Idade: 28 anos\n",
    "\n",
    "Baixa urgência:\n",
    "- Nome: Carla | Idade: 59 anos\n",
    "- Nome: Ana | Idade: 34 anos\n",
    "```\n",
    "---\n",
    "\n",
    "Ao chamar o método `proximo_paciente`, deve exibir:\n",
    "```\n",
    "Próximo paciente\n",
    "- Nome: Pedro | Idade: 80 anos | Urgência: Alta\n",
    "```\n",
    "\n",
    "---\n",
    "\n",
    "Após o atendimento do próximo paciente, a fila deve ser exibida assim:\n",
    "\n",
    "```\n",
    "Ordem de Atendimento\n",
    "\n",
    "Alta urgência:\n",
    "- Nome: Maria | Idade: 72 anos\n",
    "- Nome: João | Idade: 65 anos\n",
    "\n",
    "Média urgência:\n",
    "- Nome: Lucas | Idade: 50 anos\n",
    "- Nome: Clara | Idade: 28 anos\n",
    "\n",
    "Baixa urgência:\n",
    "- Nome: Carla | Idade: 59 anos\n",
    "- Nome: Ana | Idade: 34 anos\n",
    "```\n"
   ]
  },
  {
   "cell_type": "code",
   "execution_count": null,
   "metadata": {},
   "outputs": [],
   "source": [
    "#Crie células abaixo para fazer o exercício, não se esqueça das boas práticas de código, e comente o que fizer!!!!!!\n",
    "\n"
   ]
  }
 ],
 "metadata": {
  "kernelspec": {
   "display_name": "base",
   "language": "python",
   "name": "python3"
  },
  "language_info": {
   "codemirror_mode": {
    "name": "ipython",
    "version": 3
   },
   "file_extension": ".py",
   "mimetype": "text/x-python",
   "name": "python",
   "nbconvert_exporter": "python",
   "pygments_lexer": "ipython3",
   "version": "3.12.7"
  }
 },
 "nbformat": 4,
 "nbformat_minor": 2
}
